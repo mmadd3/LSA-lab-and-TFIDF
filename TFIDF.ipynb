{
 "metadata": {
  "name": "",
  "signature": "sha256:549e00c64aad406aa1748101820b32f5774fc0a8732bca0980024f0a1acdef16"
 },
 "nbformat": 3,
 "nbformat_minor": 0,
 "worksheets": [
  {
   "cells": [
    {
     "cell_type": "markdown",
     "metadata": {},
     "source": [
      "Language processing"
     ]
    },
    {
     "cell_type": "code",
     "collapsed": false,
     "input": [
      "docA = \"There is a lecture posted in the blackboard\"\n",
      "docB = \"There is a lecture \""
     ],
     "language": "python",
     "metadata": {},
     "outputs": [],
     "prompt_number": 13
    },
    {
     "cell_type": "markdown",
     "metadata": {},
     "source": [
      "Bag of words and spliting documents in corpus"
     ]
    },
    {
     "cell_type": "code",
     "collapsed": false,
     "input": [
      "bowA = docA.split(\" \")\n",
      "bowB = docB.split(\" \")\n"
     ],
     "language": "python",
     "metadata": {},
     "outputs": [],
     "prompt_number": 14
    },
    {
     "cell_type": "code",
     "collapsed": false,
     "input": [
      "bowB"
     ],
     "language": "python",
     "metadata": {},
     "outputs": [
      {
       "metadata": {},
       "output_type": "pyout",
       "prompt_number": 15,
       "text": [
        "['There', 'is', 'a', 'lecture', '']"
       ]
      }
     ],
     "prompt_number": 15
    },
    {
     "cell_type": "code",
     "collapsed": true,
     "input": [
      "bowA\n"
     ],
     "language": "python",
     "metadata": {},
     "outputs": [
      {
       "metadata": {},
       "output_type": "pyout",
       "prompt_number": 16,
       "text": [
        "['There', 'is', 'a', 'lecture', 'posted', 'in', 'the', 'blackboard']"
       ]
      }
     ],
     "prompt_number": 16
    },
    {
     "cell_type": "code",
     "collapsed": false,
     "input": [
      "wordSet = set(bowA).union(set(bowB))"
     ],
     "language": "python",
     "metadata": {},
     "outputs": [],
     "prompt_number": 17
    },
    {
     "cell_type": "code",
     "collapsed": false,
     "input": [
      "wordSet"
     ],
     "language": "python",
     "metadata": {},
     "outputs": [
      {
       "metadata": {},
       "output_type": "pyout",
       "prompt_number": 18,
       "text": [
        "{'', 'There', 'a', 'blackboard', 'in', 'is', 'lecture', 'posted', 'the'}"
       ]
      }
     ],
     "prompt_number": 18
    },
    {
     "cell_type": "code",
     "collapsed": false,
     "input": [
      "wordDictA=dict.fromkeys(wordSet,0)\n",
      "wordDictB=dict.fromkeys(wordSet,0)"
     ],
     "language": "python",
     "metadata": {},
     "outputs": [],
     "prompt_number": 20
    },
    {
     "cell_type": "code",
     "collapsed": false,
     "input": [
      "wordDictA"
     ],
     "language": "python",
     "metadata": {},
     "outputs": [
      {
       "metadata": {},
       "output_type": "pyout",
       "prompt_number": 21,
       "text": [
        "{'': 0,\n",
        " 'There': 0,\n",
        " 'a': 0,\n",
        " 'blackboard': 0,\n",
        " 'in': 0,\n",
        " 'is': 0,\n",
        " 'lecture': 0,\n",
        " 'posted': 0,\n",
        " 'the': 0}"
       ]
      }
     ],
     "prompt_number": 21
    },
    {
     "cell_type": "markdown",
     "metadata": {},
     "source": [
      "counting words in a bag"
     ]
    },
    {
     "cell_type": "code",
     "collapsed": false,
     "input": [
      "for word in bowA:\n",
      "    wordDictA[word]+=1\n",
      "for word in bowB:\n",
      "    wordDictB[word]+=1"
     ],
     "language": "python",
     "metadata": {},
     "outputs": [],
     "prompt_number": 22
    },
    {
     "cell_type": "code",
     "collapsed": false,
     "input": [
      "wordDictA"
     ],
     "language": "python",
     "metadata": {},
     "outputs": [
      {
       "metadata": {},
       "output_type": "pyout",
       "prompt_number": 23,
       "text": [
        "{'': 0,\n",
        " 'There': 1,\n",
        " 'a': 1,\n",
        " 'blackboard': 1,\n",
        " 'in': 1,\n",
        " 'is': 1,\n",
        " 'lecture': 1,\n",
        " 'posted': 1,\n",
        " 'the': 1}"
       ]
      }
     ],
     "prompt_number": 23
    },
    {
     "cell_type": "code",
     "collapsed": false,
     "input": [
      "wordDictB"
     ],
     "language": "python",
     "metadata": {},
     "outputs": [
      {
       "metadata": {},
       "output_type": "pyout",
       "prompt_number": 24,
       "text": [
        "{'': 1,\n",
        " 'There': 1,\n",
        " 'a': 1,\n",
        " 'blackboard': 0,\n",
        " 'in': 0,\n",
        " 'is': 1,\n",
        " 'lecture': 1,\n",
        " 'posted': 0,\n",
        " 'the': 0}"
       ]
      }
     ],
     "prompt_number": 24
    },
    {
     "cell_type": "markdown",
     "metadata": {},
     "source": [
      "sticking into a matrix"
     ]
    },
    {
     "cell_type": "code",
     "collapsed": false,
     "input": [
      "import pandas as pd\n",
      "pd.DataFrame([wordDictA,wordDictB])"
     ],
     "language": "python",
     "metadata": {},
     "outputs": [
      {
       "html": [
        "<div style=\"max-height:1000px;max-width:1500px;overflow:auto;\">\n",
        "<table border=\"1\" class=\"dataframe\">\n",
        "  <thead>\n",
        "    <tr style=\"text-align: right;\">\n",
        "      <th></th>\n",
        "      <th></th>\n",
        "      <th>There</th>\n",
        "      <th>a</th>\n",
        "      <th>blackboard</th>\n",
        "      <th>in</th>\n",
        "      <th>is</th>\n",
        "      <th>lecture</th>\n",
        "      <th>posted</th>\n",
        "      <th>the</th>\n",
        "    </tr>\n",
        "  </thead>\n",
        "  <tbody>\n",
        "    <tr>\n",
        "      <th>0</th>\n",
        "      <td> 0</td>\n",
        "      <td> 1</td>\n",
        "      <td> 1</td>\n",
        "      <td> 1</td>\n",
        "      <td> 1</td>\n",
        "      <td> 1</td>\n",
        "      <td> 1</td>\n",
        "      <td> 1</td>\n",
        "      <td> 1</td>\n",
        "    </tr>\n",
        "    <tr>\n",
        "      <th>1</th>\n",
        "      <td> 1</td>\n",
        "      <td> 1</td>\n",
        "      <td> 1</td>\n",
        "      <td> 0</td>\n",
        "      <td> 0</td>\n",
        "      <td> 1</td>\n",
        "      <td> 1</td>\n",
        "      <td> 0</td>\n",
        "      <td> 0</td>\n",
        "    </tr>\n",
        "  </tbody>\n",
        "</table>\n",
        "</div>"
       ],
       "metadata": {},
       "output_type": "pyout",
       "prompt_number": 25,
       "text": [
        "      There  a  blackboard  in  is  lecture  posted  the\n",
        "0  0      1  1           1   1   1        1       1    1\n",
        "1  1      1  1           0   0   1        1       0    0"
       ]
      }
     ],
     "prompt_number": 25
    },
    {
     "cell_type": "code",
     "collapsed": false,
     "input": [
      "def computeTF(wordDict,bow):\n",
      "    tfDict={}\n",
      "    bowCount= len(bow)\n",
      "    for word, count in wordDict.iteritems():\n",
      "        tfDict[word]=count / float(bowCount)\n",
      "    return tfDict"
     ],
     "language": "python",
     "metadata": {},
     "outputs": [],
     "prompt_number": 30
    },
    {
     "cell_type": "code",
     "collapsed": false,
     "input": [
      "tfBowA=computeTF(wordDictA,bowA)\n",
      "tfBowB=computeTF(wordDictB,bowB)"
     ],
     "language": "python",
     "metadata": {},
     "outputs": [],
     "prompt_number": 31
    },
    {
     "cell_type": "code",
     "collapsed": false,
     "input": [
      "def computeIDF(docList):\n",
      "    import math\n",
      "    idfDict={}\n",
      "    N=len(docList)\n",
      "    idfDict=dict.fromkeys(docList[0].keys(),0)\n",
      "    for doc in docList:\n",
      "        for word,val in doc.iteritems():\n",
      "          if val>0:\n",
      "            idfDict[word]+=1\n",
      "            for word,val in idfDict.iteritems():\n",
      "                idfDict[word]=math.log(N / float(val))\n",
      "                return idfDict"
     ],
     "language": "python",
     "metadata": {},
     "outputs": [],
     "prompt_number": 42
    },
    {
     "cell_type": "code",
     "collapsed": false,
     "input": [
      "idfs = computeIDF([wordDictA,wordDictB])"
     ],
     "language": "python",
     "metadata": {},
     "outputs": [],
     "prompt_number": 43
    },
    {
     "cell_type": "code",
     "collapsed": false,
     "input": [
      "def computeTFIDF(tfBow,idfs):\n",
      "    tfidf={}\n",
      "    for word , val in tfBow.iteritems():\n",
      "        tfidf[word]=val*idfs[word]\n",
      "        return tfidf"
     ],
     "language": "python",
     "metadata": {},
     "outputs": [],
     "prompt_number": 44
    },
    {
     "cell_type": "code",
     "collapsed": false,
     "input": [
      "tfidfBowA=computeTFIDF(tfBowA,idfs)\n",
      "tfidfBowB=computeTFIDF(tfBowB,idfs)"
     ],
     "language": "python",
     "metadata": {},
     "outputs": [],
     "prompt_number": 45
    },
    {
     "cell_type": "code",
     "collapsed": false,
     "input": [
      "import pandas as pd\n",
      "pd.DataFrame([tfidfBowB,tfidfBowA])"
     ],
     "language": "python",
     "metadata": {},
     "outputs": [
      {
       "html": [
        "<div style=\"max-height:1000px;max-width:1500px;overflow:auto;\">\n",
        "<table border=\"1\" class=\"dataframe\">\n",
        "  <thead>\n",
        "    <tr style=\"text-align: right;\">\n",
        "      <th></th>\n",
        "      <th>a</th>\n",
        "    </tr>\n",
        "  </thead>\n",
        "  <tbody>\n",
        "    <tr>\n",
        "      <th>0</th>\n",
        "      <td> 0.138629</td>\n",
        "    </tr>\n",
        "    <tr>\n",
        "      <th>1</th>\n",
        "      <td> 0.086643</td>\n",
        "    </tr>\n",
        "  </tbody>\n",
        "</table>\n",
        "</div>"
       ],
       "metadata": {},
       "output_type": "pyout",
       "prompt_number": 48,
       "text": [
        "          a\n",
        "0  0.138629\n",
        "1  0.086643"
       ]
      }
     ],
     "prompt_number": 48
    },
    {
     "cell_type": "code",
     "collapsed": false,
     "input": [],
     "language": "python",
     "metadata": {},
     "outputs": []
    }
   ],
   "metadata": {}
  }
 ]
}